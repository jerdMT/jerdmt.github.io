{
 "cells": [
  {
   "cell_type": "code",
   "execution_count": 1,
   "metadata": {
    "id": "x-uvoPXmisuV"
   },
   "outputs": [],
   "source": [
    "import collections\n",
    "from collections import Counter\n",
    "\n",
    "import networkx as nx\n",
    "import matplotlib.pyplot as plt\n",
    "import numpy as np\n",
    "import pandas as pd\n",
    "\n",
    "import powerlaw\n",
    "from powerlaw import *\n",
    "\n",
    "import scipy.stats as stats"
   ]
  },
  {
   "cell_type": "markdown",
   "metadata": {
    "id": "V1bMqBJmisua"
   },
   "source": [
    "# Part 0"
   ]
  },
  {
   "cell_type": "code",
   "execution_count": 2,
   "metadata": {
    "id": "n0Yr395iisub"
   },
   "outputs": [],
   "source": [
    "# parse the \"blog.txt\" into graph\n",
    "G = nx.read_edgelist('Assignment2/blog.txt',create_using=nx.DiGraph)"
   ]
  },
  {
   "cell_type": "markdown",
   "metadata": {
    "id": "mbD7mISrisub"
   },
   "source": [
    "# Part 1"
   ]
  },
  {
   "cell_type": "markdown",
   "metadata": {
    "id": "vFvFV1y6isub"
   },
   "source": [
    "## out-degree distribution"
   ]
  },
  {
   "cell_type": "code",
   "execution_count": 3,
   "metadata": {
    "id": "kj-J_dvFisub"
   },
   "outputs": [
    {
     "data": {
      "text/plain": [
       "<AxesSubplot:>"
      ]
     },
     "execution_count": 3,
     "metadata": {},
     "output_type": "execute_result"
    },
    {
     "data": {
      "image/png": "[encoded data removed]",
      "text/plain": [
       "<Figure size 432x288 with 4 Axes>"
      ]
     },
     "metadata": {
      "needs_background": "light"
     },
     "output_type": "display_data"
    }
   ],
   "source": [
    "# Plot the out-degree distribution\n",
    "N = G.number_of_nodes()\n",
    "out_deg = [deg for (node,deg) in G.out_degree()]\n",
    "degree_count = dict(Counter(out_deg))\n",
    "\n",
    "#degree probability pairs\n",
    "degree_probs = [(degree,count/N) for (degree,count) in degree_count.items()]\n",
    "degree = [degree for (degree,p_k) in degree_probs]\n",
    "p_k_all = [p_k for (degree,p_k) in degree_probs]\n",
    "\n",
    "############ out degree\n",
    "fig1,axs1 = plt.subplots(2,2)\n",
    "axs1[0,0].scatter(degree,p_k_all)\n",
    "\n",
    "axs1[0,1].scatter(degree,p_k_all)\n",
    "axs1[0,1].set_yscale('log')\n",
    "axs1[0,1].set_xscale('log')\n",
    "\n",
    "\n",
    "#remove degree 0 for log scale\n",
    "degree.remove(0)\n",
    "plot_pdf(degree,ax=axs1[1,0])\n",
    "plot_ccdf(degree,ax=axs1[1,1])"
   ]
  },
  {
   "cell_type": "code",
   "execution_count": 4,
   "metadata": {
    "id": "kj-J_dvFisub"
   },
   "outputs": [
    {
     "data": {
      "text/plain": [
       "<AxesSubplot:>"
      ]
     },
     "execution_count": 4,
     "metadata": {},
     "output_type": "execute_result"
    },
    {
     "data": {
      "image/png": "[encoded data removed]",
      "text/plain": [
       "<Figure size 432x288 with 4 Axes>"
      ]
     },
     "metadata": {
      "needs_background": "light"
     },
     "output_type": "display_data"
    }
   ],
   "source": [
    "# Plot the in-degree distribution\n",
    "in_deg = [deg for (node,deg) in G.in_degree()]\n",
    "degree_count = dict(Counter(in_deg))\n",
    "\n",
    "#degree probability pairs\n",
    "in_degree_probs = [(degree,count/N) for (degree,count) in degree_count.items()]\n",
    "in_degree = [degree for (degree,p_k) in in_degree_probs]\n",
    "p_k_all = [p_k for (degree,p_k) in in_degree_probs]\n",
    "\n",
    "############ in degree\n",
    "\n",
    "fig2,axs2 = plt.subplots(2,2)\n",
    "axs2[0,0].scatter(in_degree,p_k_all)\n",
    "axs2[0,0].set_xlabel('Linear,Linear')\n",
    "\n",
    "\n",
    "axs2[0,1].scatter(in_degree,p_k_all)\n",
    "axs2[0,1].set_yscale('log')\n",
    "axs2[0,1].set_xscale('log')\n",
    "\n",
    "#remove degree 0 for log scale\n",
    "in_degree.remove(0)\n",
    "plot_pdf(in_degree,ax=axs2[1,0])\n",
    "plot_ccdf(in_degree,ax=axs2[1,1])"
   ]
  },
  {
   "cell_type": "markdown",
   "metadata": {
    "id": "kj-J_dvFisub"
   },
   "source": [
    "### From left to right, top to bottom: Linear Scale, log-log linear binning, log-log log binning, cumulative"
   ]
  },
  {
   "cell_type": "markdown",
   "metadata": {
    "id": "kj-J_dvFisub"
   },
   "source": [
    "$$ P_k = \\dfrac{N_k}{N}$$\n",
    "\n",
    "$$ P_k \\sim (k + K_0)^{\\gamma}$$ "
   ]
  },
  {
   "cell_type": "markdown",
   "metadata": {
    "id": "IJbFT8CYisuc"
   },
   "source": [
    "### Fitting Without xmax"
   ]
  },
  {
   "cell_type": "markdown",
   "metadata": {
    "id": "IJbFT8CYisuc"
   },
   "source": [
    "(I encountered a scipy dependency error here that I could not resolve)"
   ]
  },
  {
   "cell_type": "code",
   "execution_count": 5,
   "metadata": {
    "id": "Tb4_TpDVisuc"
   },
   "outputs": [
    {
     "name": "stdout",
     "output_type": "stream",
     "text": [
      "in alpha:  3.3198351498737098 in xmin:  94.0\n"
     ]
    },
    {
     "name": "stderr",
     "output_type": "stream",
     "text": [
      "Calculating best minimal value for power law fit\n",
      "/Users/jarodw/miniforge3/lib/python3.9/site-packages/powerlaw.py:699: RuntimeWarning: invalid value encountered in true_divide\n",
      "  (CDF_diff**2) /\n",
      "/Users/jarodw/miniforge3/lib/python3.9/site-packages/powerlaw.py:699: RuntimeWarning: divide by zero encountered in true_divide\n",
      "  (CDF_diff**2) /\n"
     ]
    }
   ],
   "source": [
    "#fit the out-degree distributon without xmax\n",
    "\n",
    "in_fit = powerlaw.Fit(in_degree,discrete = True)\n",
    "print('in alpha: ', in_fit.alpha, 'in xmin: ',in_fit.xmin)"
   ]
  },
  {
   "cell_type": "code",
   "execution_count": 6,
   "metadata": {
    "id": "Tb4_TpDVisuc"
   },
   "outputs": [
    {
     "name": "stdout",
     "output_type": "stream",
     "text": [
      "out alpha:  5.907036590931355 out xmin:  103.0\n"
     ]
    },
    {
     "name": "stderr",
     "output_type": "stream",
     "text": [
      "Calculating best minimal value for power law fit\n"
     ]
    }
   ],
   "source": [
    "out_fit = powerlaw.Fit(degree,discrete = True)\n",
    "print('out alpha: ', out_fit.alpha, 'out xmin: ', out_fit.xmin)"
   ]
  },
  {
   "cell_type": "markdown",
   "metadata": {
    "id": "YPln-YC0isud"
   },
   "source": [
    "## Fitting with xmax"
   ]
  },
  {
   "cell_type": "markdown",
   "metadata": {
    "id": "YPln-YC0isud"
   },
   "source": [
    "**0's removed. Warning persists**"
   ]
  },
  {
   "cell_type": "code",
   "execution_count": 7,
   "metadata": {
    "id": "WwpWZjugisud"
   },
   "outputs": [
    {
     "name": "stdout",
     "output_type": "stream",
     "text": [
      "in alpha:  1.9475560671062895 in xmin:  54.0\n"
     ]
    },
    {
     "name": "stderr",
     "output_type": "stream",
     "text": [
      "Calculating best minimal value for power law fit\n",
      "/Users/jarodw/miniforge3/lib/python3.9/site-packages/powerlaw.py:1185: RuntimeWarning: divide by zero encountered in double_scalars\n",
      "  C = 1.0/C\n",
      "/Users/jarodw/miniforge3/lib/python3.9/site-packages/scipy/optimize/optimize.py:761: RuntimeWarning: invalid value encountered in subtract\n",
      "  np.max(np.abs(fsim[0] - fsim[1:])) <= fatol):\n"
     ]
    }
   ],
   "source": [
    "# Plot the out-degree distribution\n",
    "in_fit = powerlaw.Fit(in_degree,discrete = True,xmax=300)\n",
    "print('in alpha: ', in_fit.alpha, 'in xmin: ',in_fit.xmin)"
   ]
  },
  {
   "cell_type": "code",
   "execution_count": 8,
   "metadata": {
    "id": "WwpWZjugisud"
   },
   "outputs": [
    {
     "name": "stderr",
     "output_type": "stream",
     "text": [
      "Calculating best minimal value for power law fit\n"
     ]
    },
    {
     "name": "stdout",
     "output_type": "stream",
     "text": [
      "out alpha:  2.3216241272924742 out xmin:  42.0\n"
     ]
    }
   ],
   "source": [
    "out_fit = powerlaw.Fit(degree,discrete = True,xmax=200)\n",
    "print('out alpha: ', out_fit.alpha, 'out xmin: ', out_fit.xmin)"
   ]
  },
  {
   "cell_type": "markdown",
   "metadata": {
    "id": "KxTbWM1Nisue"
   },
   "source": [
    "# Part 2"
   ]
  },
  {
   "cell_type": "markdown",
   "metadata": {
    "id": "KX79CtfNisue"
   },
   "source": [
    "## Q1"
   ]
  },
  {
   "cell_type": "code",
   "execution_count": 9,
   "metadata": {
    "id": "Kz1lsQJJisue"
   },
   "outputs": [
    {
     "data": {
      "text/plain": [
       "0.007770001071065256"
      ]
     },
     "execution_count": 9,
     "metadata": {},
     "output_type": "execute_result"
    }
   ],
   "source": [
    "# Compute the Pearson correlation coefficieient\n",
    "#reload graph as undirected\n",
    "G = nx.read_edgelist('Assignment2/blog.txt')\n",
    "\n",
    "r = nx.degree_pearson_correlation_coefficient(G)\n",
    "\n",
    "node_count = G.number_of_nodes()\n",
    "\n",
    "#test stat\n",
    "\n",
    "T = (r*np.sqrt(node_count-2)/np.sqrt(1-(r**2)))\n",
    "\n",
    "from scipy.stats import t\n",
    "#must use abs\n",
    "p_val = t.sf(abs(T),2)\n",
    "p_val"
   ]
  },
  {
   "cell_type": "markdown",
   "metadata": {
    "id": "UUnHnGucisue"
   },
   "source": [
    "**Based on the result, do you think this network is assortative, disassortative or neutral? write 1-2 sentence(s) to state your conclusion and reasons.**"
   ]
  },
  {
   "cell_type": "markdown",
   "metadata": {
    "id": "UUnHnGucisue"
   },
   "source": [
    "A negative correlation coefficient is indicative of a disassortative network. The p-value is statistically significant so we can reject the null hypothesis."
   ]
  },
  {
   "cell_type": "markdown",
   "metadata": {
    "id": "uWR1tiFsisuf"
   },
   "source": [
    "## Q2"
   ]
  },
  {
   "cell_type": "code",
   "execution_count": 10,
   "metadata": {
    "id": "HhFVVhavisuf"
   },
   "outputs": [],
   "source": [
    "# Plot the average(average neighbor degree) as a function of the node degree k\n",
    "\n",
    "degree = [degree for node,degree in list(G.degree())]\n",
    "avg_nb = [b for (a,b) in nx.average_neighbor_degree(G).items()]\n",
    "\n",
    "df = pd.DataFrame(list(zip(degree, avg_nb)),columns=['deg', 'avg'])\n",
    "results = df.groupby('deg').mean('avg')\n"
   ]
  },
  {
   "cell_type": "code",
   "execution_count": 11,
   "metadata": {
    "id": "HhFVVhavisuf"
   },
   "outputs": [
    {
     "data": {
      "text/plain": [
       "0.0015591080265674037"
      ]
     },
     "execution_count": 11,
     "metadata": {},
     "output_type": "execute_result"
    },
    {
     "data": {
      "image/png": "[encoded data removed]",
      "text/plain": [
       "<Figure size 432x288 with 1 Axes>"
      ]
     },
     "metadata": {
      "needs_background": "light"
     },
     "output_type": "display_data"
    }
   ],
   "source": [
    "plt.scatter(results.index,results.avg)\n",
    "plt.xlabel('degree')\n",
    "plt.ylabel('average(average neighbor degree)')\n",
    "\n",
    "from scipy import stats\n",
    "r,p = stats.pearsonr(results.index,results.avg) #stat signif but must use t-test?\n",
    "r,p\n",
    "\n",
    "#N is number of elements in unique degree set\n",
    "N = len(results.index)\n",
    "\n",
    "T = (r*np.sqrt(N-2)/np.sqrt(1-(r**2)))\n",
    "\n",
    "from scipy.stats import t\n",
    "#must use abs\n",
    "p_val = t.sf(abs(T),2)\n",
    "p_val"
   ]
  },
  {
   "cell_type": "markdown",
   "metadata": {
    "id": "HhFVVhavisuf"
   },
   "source": [
    "This analysis also indicates the network is disassortative.Further, the p value is statistiaclly significant and we can reject the null hypothesis here as well. "
   ]
  },
  {
   "cell_type": "markdown",
   "metadata": {
    "id": "LZGg4xjdisuf"
   },
   "source": [
    "# Part 3"
   ]
  },
  {
   "cell_type": "markdown",
   "metadata": {
    "id": "jlvfPyYUisuf"
   },
   "source": [
    "## Q1"
   ]
  },
  {
   "cell_type": "code",
   "execution_count": 12,
   "metadata": {
    "id": "uPOFjwptisuf"
   },
   "outputs": [],
   "source": [
    "# Plot the diameters of the LCC and the 100 G(n,p) networks\n",
    "# parse the \"blog.txt\" into graph\n",
    "G = nx.read_edgelist('Assignment2/blog.txt',create_using=nx.DiGraph)\n",
    "scc = sorted(nx.strongly_connected_components(G), key=len, reverse=True)\n",
    "G_0 = G.subgraph(scc[0]).to_undirected()\n",
    "\n",
    "n = G_0.number_of_nodes()\n",
    "E = G_0.number_of_edges()\n",
    "p = (2*E)/((n)*(n-1))\n",
    "\n",
    "d_0 = nx.diameter(G_0)"
   ]
  },
  {
   "cell_type": "code",
   "execution_count": 13,
   "metadata": {
    "id": "uPOFjwptisuf"
   },
   "outputs": [],
   "source": [
    "all_graphs = [nx.gnp_random_graph(n,p,seed=i) for i in range(1,100)]\n",
    "\n",
    "diameters_all = list(map(nx.diameter, all_graphs))"
   ]
  },
  {
   "cell_type": "code",
   "execution_count": 14,
   "metadata": {
    "id": "uPOFjwptisuf"
   },
   "outputs": [
    {
     "data": {
      "text/plain": [
       "Text(0.5, 1.0, 'Distibution of G(n,p) graphs and Diameter of G_0')"
      ]
     },
     "execution_count": 14,
     "metadata": {},
     "output_type": "execute_result"
    },
    {
     "data": {
      "image/png": "[encoded data removed]",
      "text/plain": [
       "<Figure size 432x288 with 1 Axes>"
      ]
     },
     "metadata": {
      "needs_background": "light"
     },
     "output_type": "display_data"
    }
   ],
   "source": [
    "plt.boxplot(diameters_all)\n",
    "plt.yticks(list(range(1,6)))\n",
    "plt.ylabel('Diameter')\n",
    "plt.xticks(np.arange(1))\n",
    "plt.scatter(1,d_0)\n",
    "plt.title('Distibution of G(n,p) graphs and Diameter of G_0')\n",
    "\n"
   ]
  },
  {
   "cell_type": "markdown",
   "metadata": {
    "id": "cB_Gefbtisug"
   },
   "source": [
    "## Q2"
   ]
  },
  {
   "cell_type": "code",
   "execution_count": 15,
   "metadata": {
    "id": "NosGchmCisug",
    "scrolled": true
   },
   "outputs": [
    {
     "data": {
      "text/plain": [
       "Text(0, 0.5, 'Avg.Shortest Path')"
      ]
     },
     "execution_count": 15,
     "metadata": {},
     "output_type": "execute_result"
    },
    {
     "data": {
      "image/png": "[encoded data removed]",
      "text/plain": [
       "<Figure size 432x288 with 1 Axes>"
      ]
     },
     "metadata": {
      "needs_background": "light"
     },
     "output_type": "display_data"
    }
   ],
   "source": [
    "# Plot the average shortest path length of the LCC and the 100 G(n,p) networks\n",
    "\n",
    "spl_0 = nx.average_shortest_path_length(G_0)\n",
    "\n",
    "spl_all = list(map(nx.average_shortest_path_length, all_graphs))\n",
    "spl_all\n",
    "\n",
    "plt.boxplot(spl_all)\n",
    "plt.scatter(1,spl_0)\n",
    "plt.title('Distibution of G(n,p) SPL and SPL of G_0')\n",
    "plt.xticks(np.arange(1))\n",
    "plt.ylabel('Avg.Shortest Path')"
   ]
  },
  {
   "cell_type": "markdown",
   "metadata": {
    "id": "EjtTewUblr0o"
   },
   "source": [
    "## Q3"
   ]
  },
  {
   "cell_type": "markdown",
   "metadata": {
    "id": "jAjc6FTiisug"
   },
   "source": [
    "Use the one-sample t-test to examine if the diameter of the undirected network is significantly different than the diameter of the random networks at a 95% significance level? What about the average shortest path length?"
   ]
  },
  {
   "cell_type": "code",
   "execution_count": 16,
   "metadata": {
    "id": "jAjc6FTiisug"
   },
   "outputs": [
    {
     "data": {
      "text/plain": [
       "Ttest_1sampResult(statistic=-410.1943564484653, pvalue=2.454941768681692e-160)"
      ]
     },
     "execution_count": 16,
     "metadata": {},
     "output_type": "execute_result"
    }
   ],
   "source": [
    "stats.ttest_1samp(diameters_all,d_0)\n",
    "\n",
    "stats.ttest_1samp(spl_all,spl_0)"
   ]
  },
  {
   "cell_type": "markdown",
   "metadata": {
    "id": "jAjc6FTiisug"
   },
   "source": [
    "We can reject $ H_0 $ , the means are significantly different. The G(n,p) graphs differ from the blog graph. "
   ]
  },
  {
   "cell_type": "markdown",
   "metadata": {
    "id": "uhE9FCwrisug"
   },
   "source": [
    "# Part 4"
   ]
  },
  {
   "cell_type": "markdown",
   "metadata": {
    "id": "VCW5Nrldisug"
   },
   "source": [
    "## Q1"
   ]
  },
  {
   "cell_type": "code",
   "execution_count": 17,
   "metadata": {
    "id": "NUcP8Wwtisuh"
   },
   "outputs": [
    {
     "data": {
      "text/plain": [
       "KstestResult(statistic=0.9508196721311475, pvalue=0.0)"
      ]
     },
     "execution_count": 17,
     "metadata": {},
     "output_type": "execute_result"
    },
    {
     "data": {
      "image/png": "[encoded data removed]",
      "text/plain": [
       "<Figure size 432x288 with 2 Axes>"
      ]
     },
     "metadata": {
      "needs_background": "light"
     },
     "output_type": "display_data"
    }
   ],
   "source": [
    "# Plot the clustering coefficient of the LCC and a G(n,p) network in CCDF format\n",
    "random_graph = nx.gnp_random_graph(n,p,seed=123)\n",
    "ccs_blog = nx.clustering(G_0)\n",
    "ccs_rand = nx.clustering(random_graph)\n",
    "\n",
    "############ in degree\n",
    "fig3,axs3 = plt.subplots(1,2)\n",
    "\n",
    "\n",
    "axs3[0].hist(ccs_blog.values(),density=True,cumulative=-1)\n",
    "axs3[0].set_xlabel('Clustering Coefficient')\n",
    "axs3[0].set_ylabel('Probability')\n",
    "axs3[0].set_title('CCDF of Clustering Coeff. G_0')\n",
    "\n",
    "\n",
    "plt.hist(ccs_rand.values(),density=True,cumulative=-1)\n",
    "plt.xlabel('Clustering Coefficient')\n",
    "plt.ylabel('Probability')\n",
    "plt.title('CCDF of Clustering Coeff. Rand')\n",
    "# set the spacing between subplots\n",
    "plt.subplots_adjust(left=0.1,\n",
    "                    bottom=0.1, \n",
    "                    right=0.9, \n",
    "                    top=0.9, \n",
    "                    wspace=0.4, \n",
    "                    hspace=0.4)\n",
    "\n",
    "stats.ks_2samp(list(ccs_blog.values()),list(ccs_rand.values()))"
   ]
  },
  {
   "cell_type": "markdown",
   "metadata": {
    "id": "W-6qOdw6isuh"
   },
   "source": [
    "Are the two distributions significantly different?"
   ]
  },
  {
   "cell_type": "markdown",
   "metadata": {
    "id": "NUcP8Wwtisuh"
   },
   "source": [
    "We can reject the null hypothesis that the two distibutions are the same."
   ]
  },
  {
   "cell_type": "markdown",
   "metadata": {
    "id": "ZqygYFvGisuh"
   },
   "source": [
    "## Q2"
   ]
  },
  {
   "cell_type": "code",
   "execution_count": 18,
   "metadata": {
    "id": "hqkOG0PSisuh"
   },
   "outputs": [
    {
     "data": {
      "text/plain": [
       "Text(0, 0.5, 'avg. cluster coeff')"
      ]
     },
     "execution_count": 18,
     "metadata": {},
     "output_type": "execute_result"
    },
    {
     "data": {
      "image/png": "[encoded data removed]",
      "text/plain": [
       "<Figure size 432x288 with 1 Axes>"
      ]
     },
     "metadata": {
      "needs_background": "light"
     },
     "output_type": "display_data"
    }
   ],
   "source": [
    "# Plot the average clustering coefficient as a function of the node degree\n",
    "######## data prep for G_0\n",
    "degree = list(G_0.degree())\n",
    "degree_df = pd.DataFrame(degree, columns = ['node','degree'])\n",
    "ccs_df = pd.DataFrame(ccs_blog.items(), columns = ['node', 'cc']  )       \n",
    "\n",
    "new_df = degree_df.merge(ccs_df,on = 'node',how = 'left')\n",
    "grouped_df = new_df.groupby(['degree'])\n",
    "g0_results = grouped_df.mean('cc')\n",
    "\n",
    "###### data prep for random graph\n",
    "degree = list(random_graph.degree())\n",
    "degree_df = pd.DataFrame(degree, columns = ['node','degree'])\n",
    "ccs_df = pd.DataFrame(ccs_rand.items(), columns = ['node', 'cc']  )       \n",
    "\n",
    "new_df = degree_df.merge(ccs_df,on = 'node',how = 'left')\n",
    "grouped_df = new_df.groupby(['degree'])\n",
    "rand_results = grouped_df.mean('cc')\n",
    "\n",
    "\n",
    "plt.scatter(g0_results.index,g0_results.cc,marker='^')\n",
    "plt.scatter(rand_results.index,rand_results.cc)\n",
    "plt.xlabel('degree')\n",
    "plt.ylabel('avg. cluster coeff')\n"
   ]
  },
  {
   "cell_type": "markdown",
   "metadata": {
    "id": "eRSEu23disuh"
   },
   "source": [
    "**What do you observe based on the above visualization?**"
   ]
  },
  {
   "cell_type": "markdown",
   "metadata": {
    "id": "hqkOG0PSisuh"
   },
   "source": [
    "Average cluster coeff. for the random graph is far more concentrated than for the blog network. It is nearly constant with increase in degree."
   ]
  },
  {
   "cell_type": "markdown",
   "metadata": {
    "id": "XJsw2zGhisuh"
   },
   "source": [
    "## Q3"
   ]
  },
  {
   "cell_type": "code",
   "execution_count": 19,
   "metadata": {
    "id": "ikCMDoJvisui"
   },
   "outputs": [
    {
     "data": {
      "text/plain": [
       "Ttest_1sampResult(statistic=-3334.8434391311166, pvalue=1.6357507157034725e-249)"
      ]
     },
     "execution_count": 19,
     "metadata": {},
     "output_type": "execute_result"
    },
    {
     "data": {
      "image/png": "[encoded data removed]",
      "text/plain": [
       "<Figure size 432x288 with 1 Axes>"
      ]
     },
     "metadata": {
      "needs_background": "light"
     },
     "output_type": "display_data"
    }
   ],
   "source": [
    "# Plot the transitivity coefficient of the overall network of the LCC and the 100 G(n,p) networks\n",
    "G0_trans = nx.transitivity(G_0)\n",
    "\n",
    "trans_all = list(map(nx.transitivity, all_graphs))\n",
    "\n",
    "plt.boxplot(trans_all)\n",
    "plt.scatter(1,G0_trans)\n",
    "plt.title('Transitivity for Blog Network and Random Graphs')\n",
    "plt.xticks(np.arange(1))\n",
    "plt.ylabel('Transitivity')\n",
    "\n",
    "stats.ttest_1samp(trans_all,G0_trans)"
   ]
  },
  {
   "cell_type": "markdown",
   "metadata": {
    "id": "ikCMDoJvisui"
   },
   "source": [
    "We can reject $H_0$. the transitivites are not the same."
   ]
  },
  {
   "cell_type": "markdown",
   "metadata": {
    "id": "Dq-A0y8JmEsP"
   },
   "source": [
    "## Q4 (can't answer this from lecture of text?)"
   ]
  },
  {
   "cell_type": "markdown",
   "metadata": {
    "id": "oKdDa6Rtisui"
   },
   "source": [
    "**Combining the results of Part-3 and Part-4, can we conclude that the undirected LCC of Part-1 network is a small-world network or not? Please provide with your reasons.**\n",
    "\n",
    "The blog network shows a relationship between clustering coefficient and degree $k$ typical of a real-world netowork. Calculating the small world coeff. $$ \\sigma = \\frac{\\frac{C}{C_r}}{\\frac{L}{L_R}} $$"
   ]
  },
  {
   "cell_type": "code",
   "execution_count": 20,
   "metadata": {
    "id": "oKdDa6Rtisui"
   },
   "outputs": [
    {
     "data": {
      "text/plain": [
       "8.076335836203594"
      ]
     },
     "execution_count": 20,
     "metadata": {},
     "output_type": "execute_result"
    }
   ],
   "source": [
    "C = nx.average_clustering(G_0)\n",
    "C_r = nx.average_clustering(random_graph)\n",
    "L = nx.average_shortest_path_length(G_0)\n",
    "L_r = nx.average_shortest_path_length(random_graph)\n",
    "\n",
    "a = C/C_r\n",
    "b = L/L_r\n",
    "\n",
    "sigma = a/b\n",
    "sigma"
   ]
  },
  {
   "cell_type": "markdown",
   "metadata": {
    "id": "oKdDa6Rtisui"
   },
   "source": [
    "$\\sigma$ is larger than one so it is appropriate to classify $G_0$ as a small-world network. Network has stronger clustering compared to similar random graphs and comparable CPL and diameter. "
   ]
  },
  {
   "cell_type": "markdown",
   "metadata": {
    "id": "fv_rSU6nisui"
   },
   "source": [
    "# Part 5"
   ]
  },
  {
   "cell_type": "code",
   "execution_count": 21,
   "metadata": {
    "id": "yaFnD4Xnisui"
   },
   "outputs": [
    {
     "data": {
      "text/plain": [
       "(39721, 481)"
      ]
     },
     "execution_count": 21,
     "metadata": {},
     "output_type": "execute_result"
    }
   ],
   "source": [
    "scc = sorted(nx.strongly_connected_components(G), key=len, reverse=True)\n",
    "G_1 = G.subgraph(scc[0])\n",
    "\n",
    "triad_counts = nx.triadic_census(G_1)\n",
    "\n",
    "feedForward_count = triad_counts.get('030T')\n",
    "\n",
    "\n",
    "directedCycle_count = triad_counts.get('030C')\n",
    "feedForward_count,directedCycle_count"
   ]
  },
  {
   "cell_type": "code",
   "execution_count": 22,
   "metadata": {
    "id": "yaFnD4Xnisui"
   },
   "outputs": [
    {
     "name": "stdout",
     "output_type": "stream",
     "text": [
      "15783\n",
      "15783\n",
      "15783\n",
      "15783\n",
      "15783\n",
      "15783\n",
      "15783\n",
      "15783\n",
      "15783\n",
      "15783\n",
      "15783\n"
     ]
    }
   ],
   "source": [
    "in_degree_seq = [d for n,d in G_1.in_degree()]\n",
    "out_degree_seq = [d for n,d in G_1.out_degree()]\n",
    "node_count = G_1.number_of_nodes()\n",
    "edge_count = G_1.number_of_edges()\n",
    "\n",
    "print(edge_count)\n",
    "\n",
    "#create 10 random graphs from in,out seq\n",
    "random_graphs = [nx.directed_configuration_model(in_degree_seq,out_degree_seq) for i in range(0,10)]\n",
    "\n",
    "for graph in random_graphs:\n",
    "    print(graph.number_of_edges())\n",
    "    "
   ]
  },
  {
   "cell_type": "code",
   "execution_count": 23,
   "metadata": {
    "id": "yaFnD4Xnisui"
   },
   "outputs": [
    {
     "name": "stdout",
     "output_type": "stream",
     "text": [
      "14410\n",
      "14439\n",
      "14411\n",
      "14392\n",
      "14431\n",
      "14416\n",
      "14401\n",
      "14419\n",
      "14366\n",
      "14416\n"
     ]
    }
   ],
   "source": [
    "#multi to directed\n",
    "random_graphs = [nx.DiGraph(graph) for graph in random_graphs]\n",
    "#remove self-loops\n",
    "for graph in random_graphs:\n",
    "    graph.remove_edges_from(nx.selfloop_edges(graph)) \n",
    "for graph in random_graphs:\n",
    "    print(graph.number_of_edges())    "
   ]
  },
  {
   "cell_type": "code",
   "execution_count": 24,
   "metadata": {
    "id": "yaFnD4Xnisui"
   },
   "outputs": [],
   "source": [
    "random_triad_counts = [nx.triadic_census(graph) for graph in random_graphs]\n",
    "random_feedForward_counts = [dictionary.get('030T') for dictionary in random_triad_counts]\n",
    "random_directedCycle_counts = [dictionary.get('030C') for dictionary in random_triad_counts]"
   ]
  },
  {
   "cell_type": "code",
   "execution_count": 25,
   "metadata": {
    "id": "yaFnD4Xnisui"
   },
   "outputs": [
    {
     "data": {
      "text/plain": [
       "[39235, 40389, 39722, 41022, 41723, 40184, 39422, 39876, 38790, 40569]"
      ]
     },
     "execution_count": 25,
     "metadata": {},
     "output_type": "execute_result"
    }
   ],
   "source": [
    "random_feedForward_counts"
   ]
  },
  {
   "cell_type": "code",
   "execution_count": 26,
   "metadata": {
    "id": "yaFnD4Xnisui"
   },
   "outputs": [
    {
     "data": {
      "text/plain": [
       "[3698, 3728, 3686, 3885, 3670, 3709, 3495, 3839, 3668, 3764]"
      ]
     },
     "execution_count": 26,
     "metadata": {},
     "output_type": "execute_result"
    }
   ],
   "source": [
    "(random_directedCycle_counts)"
   ]
  },
  {
   "cell_type": "code",
   "execution_count": 27,
   "metadata": {
    "id": "yaFnD4Xnisui"
   },
   "outputs": [
    {
     "data": {
      "text/plain": [
       "Ttest_1sampResult(statistic=1.3431234799763807, pvalue=0.21211788810342355)"
      ]
     },
     "execution_count": 27,
     "metadata": {},
     "output_type": "execute_result"
    }
   ],
   "source": [
    "stats.ttest_1samp(random_feedForward_counts,feedForward_count)"
   ]
  },
  {
   "cell_type": "code",
   "execution_count": 28,
   "metadata": {
    "id": "yaFnD4Xnisui"
   },
   "outputs": [
    {
     "data": {
      "text/plain": [
       "Ttest_1sampResult(statistic=96.68728690192769, pvalue=6.868103601483277e-15)"
      ]
     },
     "execution_count": 28,
     "metadata": {},
     "output_type": "execute_result"
    }
   ],
   "source": [
    "stats.ttest_1samp(random_directedCycle_counts,directedCycle_count)"
   ]
  },
  {
   "cell_type": "markdown",
   "metadata": {
    "id": "OHnqphq8isui"
   },
   "source": [
    "**Which of the previous triplet types are statistically more common (or less common) in the network of the LCC compared to what we would expense based on chance?**\n",
    "\n",
    "The above t-test's indicate there is not enough evidence to reject $H_0$ in the case of the feed-forward motifs. That is, we can not assume the the the mean number of FF motifs is different in the random graphs from those of our $G_1$ network. With the directedCycle graphs however, our p value is sufficiently small to reject $H_0$. The random mean number of directed cycle graphs appears to be larger than our $G_1$ graph.\n"
   ]
  },
  {
   "cell_type": "markdown",
   "metadata": {
    "id": "lndECeqi0IZ6"
   },
   "source": [
    "# Part 6"
   ]
  },
  {
   "cell_type": "markdown",
   "metadata": {
    "id": "raopWSLf0UTk"
   },
   "source": [
    "**Note that the Transitivity and the Average Clustering Coefficient are two different metrics. They may often be close but there are also some extreme cases in which the two metrics give very different answers. To see that consider a network in which two nodes A and B are connected to each other as well as to every other node. There are no other links. The total number of nodes is n. What would be the transitivity and average clustering coefficient in this case (you can simplify by assuming that n is quite large)?**"
   ]
  },
  {
   "cell_type": "markdown",
   "metadata": {
    "id": "j4U9efrN0JJ4"
   },
   "source": [
    "Let $\\alpha_i$ be any given node where $\\alpha_i$ not in {A,B}. There then exists $n-2$ such $\\alpha_i$ nodes. Further, there exists $(n-2)$ triangles consisting of the nodes $\\alpha$, A, B. \n",
    "\n",
    "The clustering coeff is only nonzero for triangles consisting of nodes: $\\alpha, A, B$  so we get average local clustering coeff $$\\frac{(n-2)*C_{\\alpha_i}}{n} = \\frac{(n-2)1/2}{n} = \\frac{n-2}{2n} = Avg(C)$$"
   ]
  },
  {
   "cell_type": "markdown",
   "metadata": {
    "id": "j4U9efrN0JJ4"
   },
   "source": [
    "Triplets are **ordered** sets of three nodes meaning there are 6 different permutations for any given node x: {x,A,B}. If we consider x to be any node that is not A or B then we have $6(n-2)$  triplets because there are $n-2$ nodes that are not A,B. this gives us the following: \n",
    "\n",
    "$$ \\frac{3(n-2)}{6(n-2)} = \\frac{1}{2} = transitivity$$"
   ]
  },
  {
   "cell_type": "markdown",
   "metadata": {
    "id": "j4U9efrN0JJ4"
   },
   "source": [
    "Therefore we have transitivity 1/2 as a constant with an increase in nodes while Avg(C) approaches 1/2 as n goes to infinity."
   ]
  },
  {
   "cell_type": "code",
   "execution_count": 29,
   "metadata": {
    "id": "j4U9efrN0JJ4"
   },
   "outputs": [
    {
     "data": {
      "text/plain": [
       "[<matplotlib.lines.Line2D at 0x13a051f40>]"
      ]
     },
     "execution_count": 29,
     "metadata": {},
     "output_type": "execute_result"
    },
    {
     "data": {
      "image/png": "[encoded data removed]",
      "text/plain": [
       "<Figure size 432x288 with 1 Axes>"
      ]
     },
     "metadata": {
      "needs_background": "light"
     },
     "output_type": "display_data"
    }
   ],
   "source": [
    "avg_cc = [(x-2)/(2*x) for x in range(1,1000)]\n",
    "\n",
    "\n",
    "plt.plot(range(1,1000),avg_cc)"
   ]
  },
  {
   "cell_type": "markdown",
   "metadata": {
    "id": "j4U9efrN0JJ4"
   },
   "source": [
    "## *Old attempt at transitivity, did not account for triplets being ordered sets of 3 (Don't grade below)*"
   ]
  },
  {
   "cell_type": "markdown",
   "metadata": {
    "id": "j4U9efrN0JJ4"
   },
   "source": [
    "Triplets can take the following forms: (arrows not indicating a directed graph)\n",
    "$$ \\alpha_i , A ,B $$\n",
    "$$ \\alpha_i ,A , \\alpha_j $$\n",
    "$$ \\alpha_i ,B ,\\alpha_j $$\n",
    "\n",
    "Therefore, $$(n-2) + \\binom{n-2}{2} + \\binom{n-2}{2}$$ is the number of triplets in the network. This gives us \n",
    "\n",
    "$$(n-2)+(\\frac{1}{2}(n-3)(n-2)*2) = (n-2) + (n-3)(n-2) = (n-2)(1+(n-3))$$\n",
    "\n",
    "\n",
    "and transitivity\n",
    "\n",
    "$$ 3 \\frac{n-2}{(n-2)(n-2)} = \\frac{3}{n-2} = transitivity $$"
   ]
  },
  {
   "cell_type": "markdown",
   "metadata": {
    "id": "j4U9efrN0JJ4"
   },
   "source": [
    "Note: if this is correct limit for avg cc is $\\frac{1}{2}$ and limit for transitivity is 0 as n goes to infinity. Don't know how to explain asymptote though....?"
   ]
  }
 ],
 "metadata": {
  "colab": {
   "name": "assignment2.ipynb",
   "provenance": []
  },
  "kernelspec": {
   "display_name": "Python 3 (ipykernel)",
   "language": "python",
   "name": "python3"
  },
  "language_info": {
   "codemirror_mode": {
    "name": "ipython",
    "version": 3
   },
   "file_extension": ".py",
   "mimetype": "text/x-python",
   "name": "python",
   "nbconvert_exporter": "python",
   "pygments_lexer": "ipython3",
   "version": "3.9.7"
  }
 },
 "nbformat": 4,
 "nbformat_minor": 4
}
